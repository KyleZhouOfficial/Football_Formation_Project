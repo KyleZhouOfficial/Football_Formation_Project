{
 "cells": [
  {
   "cell_type": "markdown",
   "id": "0036d37d-8bb6-4de5-89ef-e732c9673e70",
   "metadata": {},
   "source": [
    "# Imports"
   ]
  },
  {
   "cell_type": "code",
   "execution_count": 2,
   "id": "7655067a-ee37-4619-9713-f1f744d44c0c",
   "metadata": {},
   "outputs": [
    {
     "name": "stderr",
     "output_type": "stream",
     "text": [
      "2022-12-27 16:19:06.808564: I tensorflow/core/platform/cpu_feature_guard.cc:193] This TensorFlow binary is optimized with oneAPI Deep Neural Network Library (oneDNN) to use the following CPU instructions in performance-critical operations:  AVX2 AVX512F AVX512_VNNI FMA\n",
      "To enable them in other operations, rebuild TensorFlow with the appropriate compiler flags.\n"
     ]
    }
   ],
   "source": [
    "import pylab\n",
    "import imageio\n",
    "import cv2\n",
    "import os\n",
    "import warnings\n",
    "import tensorflow as tf\n",
    "warnings.filterwarnings(\"ignore\")"
   ]
  },
  {
   "cell_type": "markdown",
   "id": "806acab1-922d-4124-bd2b-7b1597f41add",
   "metadata": {},
   "source": [
    "## Getting the different classes within the Data"
   ]
  },
  {
   "cell_type": "code",
   "execution_count": 3,
   "id": "89ffe0cf-0ce4-418d-ae6e-b5236865fb05",
   "metadata": {},
   "outputs": [
    {
     "name": "stdout",
     "output_type": "stream",
     "text": [
      "['Doubles', 'Reo', 'Empty']\n"
     ]
    }
   ],
   "source": [
    "forms = [x for x in os.listdir('../CleanedUpData') if x[0]!='.']\n",
    "print(forms)"
   ]
  },
  {
   "cell_type": "code",
   "execution_count": null,
   "id": "0b79953a-39b1-4477-9e89-084e14e5076a",
   "metadata": {},
   "outputs": [],
   "source": [
    "os.listdir('../CleanedUpData/'+forms[0])"
   ]
  },
  {
   "cell_type": "code",
   "execution_count": null,
   "id": "8a7f73df-996e-4306-b0fb-0fcbead51971",
   "metadata": {},
   "outputs": [],
   "source": []
  },
  {
   "cell_type": "code",
   "execution_count": null,
   "id": "d0b6388d-0ea7-4758-b1ff-2d4e44a08c66",
   "metadata": {},
   "outputs": [],
   "source": [
    "# for x in os.listdir('./Data'):\n",
    "#     print(x)\n",
    "    \n",
    "#     if x[0] == '.':\n",
    "#         continue\n",
    "        \n",
    "#     cnt = 0\n",
    "    \n",
    "#     for y in os.listdir('./Data/'+x):\n",
    "#         if y[0] == '.':\n",
    "#             continue\n",
    "#         os.rename('./Data/'+x+'/'+y, './Data/'+x+'/'+x + str(cnt))\n",
    "#         cnt += 1\n",
    "        \n",
    "#     break    "
   ]
  },
  {
   "cell_type": "markdown",
   "id": "924c24d4-8a41-433e-a14a-e30aa732d02e",
   "metadata": {},
   "source": [
    "## Resizes the frame to given output size"
   ]
  },
  {
   "cell_type": "code",
   "execution_count": null,
   "id": "b3ddbcf2-b03a-4822-a3cc-4c4b057e9c91",
   "metadata": {},
   "outputs": [],
   "source": [
    "def format_frames(frame, output_size):\n",
    "  \"\"\"\n",
    "    Pad and resize an image from a video.\n",
    "\n",
    "    Args:\n",
    "      frame: Image that needs to resized and padded. \n",
    "      output_size: Pixel size of the output frame image.[height, width]\n",
    "\n",
    "    Return:\n",
    "      Formatted frame with padding of specified output size.\n",
    "  \"\"\"\n",
    "  #frame = tf.image.convert_image_dtype(frame, tf.float32)\n",
    "  #frame = tf.image.resize_with_pad(frame, *output_size)\n",
    "  frame = tf.image.resize(frame, output_size)\n",
    "  return frame\n",
    "\n"
   ]
  },
  {
   "cell_type": "markdown",
   "id": "1b54649e-2d53-447b-975a-4ae799346803",
   "metadata": {},
   "source": [
    "## Collects and writes 4 frames of a video (1 sec - 3 sec) to folder 'football'"
   ]
  },
  {
   "cell_type": "code",
   "execution_count": null,
   "id": "b33c4104-5cc3-4c15-a1b7-fa8726750476",
   "metadata": {},
   "outputs": [],
   "source": [
    "def convert_video_to_images(video_name, form_dir, s_num=0, output_size=[300, 500]):\n",
    "    \n",
    "    start_num = s_num\n",
    "    \n",
    "    frame_start = 1*30 #start at one second or 30 frames\n",
    "    \n",
    "    skip = 15 # skip 15 frames - 0.5 second\n",
    "    \n",
    "    vid = cv2.VideoCapture(video_name)\n",
    "    \n",
    "    for i in range(4): # get 4 frames every half second\n",
    "        vid.set(cv2.CAP_PROP_POS_FRAMES, frame_start)\n",
    "        ret, frame = vid.read()\n",
    "        \n",
    "        if ret:\n",
    "            frame = format_frames(frame, output_size)\n",
    "            if not os.path.exists('../football/'+ form_dir): # if directory not exists then make one\n",
    "                os.mkdir('../football/'+ form_dir)\n",
    "            # /football/\"formation name\"/\n",
    "            filename='../football/'+ form_dir + '/' + video_name.split('/')[-1] + str(start_num)+'.jpg'\n",
    "            #print(filename)\n",
    "            start_num += 1\n",
    "            imageio.imwrite(filename, frame)\n",
    "            \n",
    "        frame_start += skip\n",
    "        \n",
    "    # while(True):\n",
    "\n",
    "        \n",
    "    return\n",
    "            \n",
    "        "
   ]
  },
  {
   "cell_type": "code",
   "execution_count": 4,
   "id": "d8f9aef6-63fa-4d65-b74d-47823421d1c6",
   "metadata": {},
   "outputs": [
    {
     "data": {
      "text/plain": [
       "'Doubles0'"
      ]
     },
     "execution_count": 4,
     "metadata": {},
     "output_type": "execute_result"
    }
   ],
   "source": [
    "s1 = '../CleanedUpData/Doubles/Doubles0'\n",
    "s1.split('/')[-1]"
   ]
  },
  {
   "cell_type": "markdown",
   "id": "0c4b1f2d-b46e-4a71-9961-334864ac1ed1",
   "metadata": {},
   "source": [
    "## Calls function on all videos in CleanedUpData"
   ]
  },
  {
   "cell_type": "code",
   "execution_count": null,
   "id": "981b0911-9e7d-4513-bb00-f0a7b88aaf1f",
   "metadata": {},
   "outputs": [],
   "source": [
    "for x in forms:\n",
    "    temp = os.listdir('../CleanedUpData/'+x)\n",
    "    for y in temp:\n",
    "        if y[0] == '.':\n",
    "            continue\n",
    "        convert_video_to_images('../CleanedUpData/'+ x + '/' + y, x + 'Pictures')"
   ]
  },
  {
   "cell_type": "code",
   "execution_count": 5,
   "id": "1b5ab001-58c8-4301-b063-3c74856f4fc4",
   "metadata": {},
   "outputs": [
    {
     "name": "stdout",
     "output_type": "stream",
     "text": [
      "812\n",
      "960\n",
      "224\n"
     ]
    }
   ],
   "source": [
    "for x in ['DoublesPictures', 'ReoPictures', 'EmptyPictures']:\n",
    "    dir_path = '../football/' + x\n",
    "    print(len([entry for entry in os.listdir(dir_path) if os.path.isfile(os.path.join(dir_path, entry))]))"
   ]
  },
  {
   "cell_type": "code",
   "execution_count": null,
   "id": "e04cff6d-ef7a-4bde-a49a-d798eff0fc05",
   "metadata": {},
   "outputs": [],
   "source": []
  }
 ],
 "metadata": {
  "kernelspec": {
   "display_name": "Python 3 (ipykernel)",
   "language": "python",
   "name": "python3"
  },
  "language_info": {
   "codemirror_mode": {
    "name": "ipython",
    "version": 3
   },
   "file_extension": ".py",
   "mimetype": "text/x-python",
   "name": "python",
   "nbconvert_exporter": "python",
   "pygments_lexer": "ipython3",
   "version": "3.9.15"
  }
 },
 "nbformat": 4,
 "nbformat_minor": 5
}
