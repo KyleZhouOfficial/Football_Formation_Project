{
 "cells": [
  {
   "cell_type": "markdown",
   "id": "eb6a07f4-6c81-4ff6-aaee-d5a61478992b",
   "metadata": {},
   "source": [
    "### Organizing Class Data into One Single Directory"
   ]
  },
  {
   "cell_type": "code",
   "execution_count": 1,
   "id": "a466f18a-e603-4d42-ad31-e0b08bdf3981",
   "metadata": {},
   "outputs": [
    {
     "name": "stderr",
     "output_type": "stream",
     "text": [
      "2022-12-27 16:16:30.268539: I tensorflow/core/platform/cpu_feature_guard.cc:193] This TensorFlow binary is optimized with oneAPI Deep Neural Network Library (oneDNN) to use the following CPU instructions in performance-critical operations:  AVX2 AVX512F AVX512_VNNI FMA\n",
      "To enable them in other operations, rebuild TensorFlow with the appropriate compiler flags.\n"
     ]
    }
   ],
   "source": [
    "import pylab\n",
    "import imageio\n",
    "import cv2\n",
    "import os\n",
    "import warnings\n",
    "import tensorflow as tf\n",
    "import shutil\n",
    "warnings.filterwarnings(\"ignore\")"
   ]
  },
  {
   "cell_type": "code",
   "execution_count": 5,
   "id": "c7e4840b-576e-4493-bf8c-add113240f8f",
   "metadata": {},
   "outputs": [
    {
     "data": {
      "text/plain": [
       "['Doubles',\n",
       " 'Reo',\n",
       " '.DS_Store',\n",
       " 'Loose',\n",
       " 'Pro',\n",
       " 'Empty',\n",
       " 'FlexBone',\n",
       " 'Spread',\n",
       " 'TripsWing',\n",
       " 'Acewing',\n",
       " 'vdh-settings.txt']"
      ]
     },
     "execution_count": 5,
     "metadata": {},
     "output_type": "execute_result"
    }
   ],
   "source": [
    "os.listdir('../GameData')"
   ]
  },
  {
   "cell_type": "markdown",
   "id": "8d667cd2-74fd-4108-b303-fd5de2d47d99",
   "metadata": {},
   "source": [
    "## New folder "
   ]
  },
  {
   "cell_type": "code",
   "execution_count": 7,
   "id": "edf137c9-1a18-4451-8c1e-16361ec173a6",
   "metadata": {},
   "outputs": [],
   "source": [
    "if not os.path.exists('../CleanedUpData'):\n",
    "    os.makedirs('../CleanedUpData')"
   ]
  },
  {
   "cell_type": "markdown",
   "id": "7c833bfc-7f8e-4185-9fef-75a1b99c2f9d",
   "metadata": {},
   "source": [
    "### Go through the Classes needed\n",
    "### Go thorough each file or directory within the folder\n",
    "### If it is a file write it into the new folder, else go into the subdirectory "
   ]
  },
  {
   "cell_type": "code",
   "execution_count": 28,
   "id": "1cdae74e-d5c5-4311-a01a-cbd3b7bf4cf6",
   "metadata": {},
   "outputs": [],
   "source": [
    "for x in ['Doubles', 'Reo', 'Empty']:\n",
    "    \n",
    "    if not os.path.exists('../CleanedUpData/' + x):\n",
    "        os.makedirs('../CleanedUpData/' + x)\n",
    "    cnt = 0\n",
    "    \n",
    "    for y in os.listdir('../GameData/' + x):\n",
    "        \n",
    "        original = '../GameData/' + x + '/' + y\n",
    "        target = '../CleanedUpData/' + x + '/' + x + '_' + str(cnt)\n",
    "        \n",
    "        if os.path.isfile(original):\n",
    "            shutil.copyfile(original, target)\n",
    "            cnt += 1\n",
    "        else:\n",
    "            for i in os.listdir('../GameData/' + x + '/' + y):\n",
    "                if os.path.isfile('../GameData/' + x + '/' + y + '/' + i):\n",
    "                    original = '../GameData/' + x + '/' + y + '/' + i\n",
    "                    target = '../CleanedUpData/' + x + '/' + x + '_' + str(cnt)\n",
    "                    shutil.copyfile(original, target)\n",
    "                    cnt += 1\n",
    "                else:\n",
    "                    assert(0, f\"this should only be videos\")"
   ]
  },
  {
   "cell_type": "markdown",
   "id": "39cd9588-eeeb-4f2d-a7a2-7699a3adc110",
   "metadata": {},
   "source": [
    "### Check total number of files per class"
   ]
  },
  {
   "cell_type": "code",
   "execution_count": 8,
   "id": "f317d8b0-faf6-43ec-aee2-9dc1f8d3c4b4",
   "metadata": {},
   "outputs": [
    {
     "name": "stdout",
     "output_type": "stream",
     "text": [
      "206\n",
      "243\n",
      "57\n"
     ]
    }
   ],
   "source": [
    "for x in ['Doubles', 'Reo', 'Empty']:\n",
    "    dir_path = '../CleanedUpData/' + x\n",
    "    print(len([entry for entry in os.listdir(dir_path) if os.path.isfile(os.path.join(dir_path, entry))]))"
   ]
  },
  {
   "cell_type": "code",
   "execution_count": null,
   "id": "27b875b0-735a-4be5-987c-e9b16d0835f7",
   "metadata": {},
   "outputs": [],
   "source": []
  }
 ],
 "metadata": {
  "kernelspec": {
   "display_name": "Python 3 (ipykernel)",
   "language": "python",
   "name": "python3"
  },
  "language_info": {
   "codemirror_mode": {
    "name": "ipython",
    "version": 3
   },
   "file_extension": ".py",
   "mimetype": "text/x-python",
   "name": "python",
   "nbconvert_exporter": "python",
   "pygments_lexer": "ipython3",
   "version": "3.9.15"
  }
 },
 "nbformat": 4,
 "nbformat_minor": 5
}
